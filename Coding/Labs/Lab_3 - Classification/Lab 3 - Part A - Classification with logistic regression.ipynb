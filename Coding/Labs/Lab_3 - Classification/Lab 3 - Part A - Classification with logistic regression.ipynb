{
 "cells": [
  {
   "cell_type": "markdown",
   "metadata": {},
   "source": [
    "# Lab 3 (Part A): Classification with logistic regression\n",
    "\n",
    "<div class=\"alert alert-block alert-danger\">\n",
    "\n",
    "__IMPORTANT__ \n",
    "Please complete this Jupyter Notebook file and upload it to blackboard __before 13 February 2020__.\n",
    "</div>\n",
    "\n",
    "In this Lab, you will start by implementing logistic regression (for classification) and apply it to a dataset. Before starting, make sure that you read the slides of lecture 3.\n",
    "\n",
    "Your task in the first part of this Lab will be to build a logistic regression model to predict whether a student gets admitted into a university.\n",
    "\n",
    "Suppose that you are the administrator of a university department and you want to determine each applicant's chance of admission based on their results on two exams. You have historical data from previous applicants that you can use as a training set for logistic regression. For each training example, you have the applicant's scores on two exams and the admissions decision. You will build a classification model that estimates an applicant's probability of admission based on the scores from those two exams.\n",
    "\n",
    "## Loading the data\n",
    "We have a file `university-admission-dataset.csv` which contains the dataset for our classification problem. The first column is the score obtained at exam1, the second column is the score obtained at exam2, and the third column is the class-label indicating if the student has been admitted or not (1 = Admitted, 0 = Not admitted).\n",
    "\n",
    "<img src=\"imgs/UnivAdmDataLab3A.png\" />\n",
    "\n",
    "The following Python code helps you load the dataset from the csv file into the variables $X$ and $y$. The variable $X$ is the input data, which is a matrix with two columns (two feature) corresponding to the score at exam1 and the score at exam2. The variable $y$ is the output class-labels corresponding to whether or not each student has been admitted. Read the following code and print a small subset of $X$ and $y$ to see what they look like.\n"
   ]
  },
  {
   "cell_type": "code",
   "execution_count": 10,
   "metadata": {},
   "outputs": [
    {
     "name": "stdout",
     "output_type": "stream",
     "text": [
      "100\n",
      "(100, 3)\n",
      "(100, 2)\n",
      "Head of X : \n",
      "[[34.62365962 78.02469282]\n",
      " [30.28671077 43.89499752]\n",
      " [35.84740877 72.90219803]\n",
      " [60.18259939 86.3085521 ]\n",
      " [79.03273605 75.34437644]]\n",
      "Head of y : \n",
      "[0. 0. 0. 1. 1.]\n"
     ]
    }
   ],
   "source": [
    "%matplotlib notebook\n",
    "import numpy as np\n",
    "\n",
    "# Loading the data from the file into mydata\n",
    "filename = \"datasets/university-admission-dataset.csv\"\n",
    "mydata = np.genfromtxt(filename, delimiter=\",\")\n",
    "\n",
    "# We have n students (each line corresponds to one student)\n",
    "n = len(mydata)\n",
    "print(n)\n",
    "\n",
    "# We take the two first columns from mydata. So, X is a matrix of n lines and two \n",
    "# columns (\"score at exam1\" and \"score at exam2\"), i.e. an array of n 2-dimensional data-points\n",
    "X = mydata[:, :2]\n",
    "print(mydata.shape)\n",
    "print(X.shape)\n",
    "\n",
    "# We take the class-labels from mydata (-1 refers to the last column)\n",
    "# So, y is the vector of outputs, i.e. an array of n scalar values\n",
    "y = mydata[:, -1]\n",
    "\n",
    "\"\"\" TODO:\n",
    "You can print here a small subset of X and y (e.g. corresponding to 10 students) to see what they look like.\n",
    "\"\"\"\n",
    "print(f\"Head of X : \\n{X[:5 , :]}\")\n",
    "print(f\"Head of y : \\n{y[:5]}\")\n"
   ]
  },
  {
   "cell_type": "markdown",
   "metadata": {},
   "source": [
    "## Visualizing the data\n",
    "Before starting to implement any learning algorithm, it is always good to visualize the data if possible. Complete the following Python code so that it displays a figure like the one shown below. The axes are the two exam scores (i.e. our features), and the class-labels are shown with different markers/colors.\n",
    "<img src=\"imgs/UnivAdmScatterPlotLab3A.png\" width=\"500px\" />\n",
    "\n",
    "**Practical hint:**\n",
    "Suppose that we have two numpy arrays `a` and `b` of the same length, as in the following example:\n",
    "```python\n",
    "a = np.array([\"This\", \"is\", \"an\", \"interesting\", \"example\"])\n",
    "b = np.array([\"yes\", \"yes\", \"no\", \"yes\", \"no\"])\n",
    "```\n",
    "If we write `b == \"yes\"`, this will produce a boolean array: `[True, True, False, True, False]`. This array contains `True` if the corresponding value in `b` is `\"yes\"`, and `\"False\"` otherwise. Similarly, `b == \"no\"` will produce the boolean array `[False, False,  True, False,  True]`. Moreover, given an array of boolean values, e.g. `arr = [True,  True, False,  True, False]`, if we write `a[arr]` then we get `[\"This\", \"is\", \"interesting\"]`. This corresponds to the elements of `a` where the corresponding value in `arr` was `True`. In summary, to get the elements of a where the corresponding value in b is \"yes\", we can simply use `a[b == \"yes\"]`.\n",
    "```python\n",
    "print( a[b == \"yes\"] ) # This gives: [\"This\", \"is\", \"interesting\"]\n",
    "print( a[b == \"no\"] ) # This gives: [\"an\", \"example\"]\n",
    "```\n",
    "You can use this syntax to select a subset of data-points (from $X$) which have a given label (in $y$)."
   ]
  },
  {
   "cell_type": "code",
   "execution_count": 34,
   "metadata": {},
   "outputs": [
    {
     "name": "stdout",
     "output_type": "stream",
     "text": [
      "[[60.18259939 86.3085521 ]\n",
      " [79.03273605 75.34437644]\n",
      " [61.10666454 96.51142588]\n",
      " [75.02474557 46.55401354]\n",
      " [76.0987867  87.42056972]]\n"
     ]
    },
    {
     "data": {
      "image/png": "[encoded data removed]",
      "text/plain": [
       "<Figure size 640x480 with 1 Axes>"
      ]
     },
     "metadata": {},
     "output_type": "display_data"
    }
   ],
   "source": [
    "%matplotlib inline\n",
    "import matplotlib.pylab as plt\n",
    "\n",
    "\"\"\" TODO:\n",
    "Follow the steps below to complete the code and produce a scatter \n",
    "plot of the training data like the one shown in the figure above.\n",
    "\"\"\"\n",
    "\n",
    "# TODO: select the data-points from X whose corresponding class-label is 0 (not admitted).\n",
    "X0 = X[y == 0]\n",
    "\n",
    "# TODO: select the data-points from X whose corresponding class-label is 1 (admitted).\n",
    "X1 = X[y == 1]\n",
    "print(X1[:5])\n",
    "\n",
    "fig, ax = plt.subplots()\n",
    "# TODO: scatter plot for the non admitted students (X0)\n",
    "# TODO: scatter plot for the admitted students (X1)\n",
    "# TODO: set the 1st axis label to \"Exam 1 score\"\n",
    "# TODO: set the 2nd axis label to \"Exam 2 score\"\n",
    "# TODO: set the title to \"Scatter plot of training data\"\n",
    "\n",
    "ax.scatter(X0[:, 0], X0[:, 1], color='red', label='non admitted')\n",
    "ax.scatter(X1[:, 0], X1[:, 1], color='blue', label='admitted')\n",
    "plt.legend()\n",
    "plt.show()\n"
   ]
  },
  {
   "cell_type": "markdown",
   "metadata": {},
   "source": [
    "## Adding a first column of ones to the dataset\n",
    "Before starting the implementation of logistic regression, it might be helpful to use a modified version of our dataset which has an additional first column of ones."
   ]
  },
  {
   "cell_type": "code",
   "execution_count": 16,
   "metadata": {},
   "outputs": [
    {
     "name": "stdout",
     "output_type": "stream",
     "text": [
      "[[ 1.         34.62365962 78.02469282]\n",
      " [ 1.         30.28671077 43.89499752]\n",
      " [ 1.         35.84740877 72.90219803]\n",
      " [ 1.         60.18259939 86.3085521 ]\n",
      " [ 1.         79.03273605 75.34437644]]\n"
     ]
    }
   ],
   "source": [
    "# This function takes a matrix as argument and returns a new matrix with an additional first column (of ones)\n",
    "def add_all_ones_column(X):\n",
    "    n, d = X.shape # dimension of the matrix X (n lines, d columns)\n",
    "    XX = np.ones((n, d+1)) # new matrix of all ones with one additional column\n",
    "    XX[:, 1:] = X # set X starting from column 1 (keep only column 0 unchanged)\n",
    "    return XX\n",
    "\n",
    "# The following line creates a new data matrix X_new with an additional first column (of ones)\n",
    "X_new = add_all_ones_column(X)\n",
    "\n",
    "\"\"\" TODO:\n",
    "You can print a small subset of X_new here to see how it looks like \n",
    "\"\"\"\n",
    "print(X_new[:5])"
   ]
  },
  {
   "cell_type": "markdown",
   "metadata": {},
   "source": [
    "## Sigmoid function\n",
    "Before you start implementing the actual cost function, recall that the logistic regression hypothesis is defined as:\n",
    "$$h_\\theta(x) = g(\\theta^T x),$$\n",
    "where function $g$ is the `sigmoid` function, defined as:\n",
    "$$g(z) = \\frac{1}{1 + e^{-z}}$$\n",
    "\n",
    "Your first step is to complete the code below to implement this function so it can be called by the rest of your program. When you are finished, try testing a few values by calling `sigmoid(z)`. For large positive values of x, the sigmoid should be close to $1$, while for large negative values, the sigmoid should be close to $0$. Evaluating `sigmoid(0)` should give you exactly $0.5$. Your code should also work with vectors and matrices. For a matrix, your function should perform the sigmoid function on every element. You can use the numpy function `np.exp(..)` to compute the exponancial. This later works on scalar values, vectors as well as matricies."
   ]
  },
  {
   "cell_type": "code",
   "execution_count": 25,
   "metadata": {},
   "outputs": [
    {
     "name": "stdout",
     "output_type": "stream",
     "text": [
      "0.5\n"
     ]
    }
   ],
   "source": [
    "\"\"\" TODO:\n",
    "Write code for the definition of the sigmoid function. This function \n",
    "should work on a scalar value as well as a vector or a matrix.\n",
    "\"\"\"\n",
    "def sigmoid(z):\n",
    "    return 1 / (1 + np.exp(-z))\n",
    "\n",
    "\n",
    "\n",
    "\"\"\" TODO:\n",
    "Test your sigmoid function by calling it few times on some scalar values, a vector, and then matrix.\n",
    "\"\"\"\n",
    "print( sigmoid(0) )\n",
    "\n",
    "\n",
    "# The hypothesis function is defined as follows:\n",
    "def h(theta, x):\n",
    "    return sigmoid(theta.T @ x)\n",
    "\n",
    "\n",
    "\n",
    "\"\"\" TODO (OPTIONAL):\n",
    "The above hypothesis function h(theta, x) makes a prediction for only one data-point x.\n",
    "Write here a modified function h_all(theta, X) which gives predictions for a dataset.\n",
    "\"\"\"\n",
    "def h_all(theta, X): # notice the usage of big capital X here (refering to a dataset)\n",
    "    predictions = []\n",
    "    for x_point in X :\n",
    "        predictions.append(h(theta, x_point))\n",
    "    return predictions\n",
    "\n",
    "# test_X = X[:5]\n",
    "# for iterm in test_X :\n",
    "#     print(f\"splited : {iterm}\")\n",
    "\n",
    "\n"
   ]
  },
  {
   "cell_type": "markdown",
   "metadata": {},
   "source": [
    "## Cost function and gradient\n",
    "Now you will implement the cost function and gradient for logistic regression. Recall that the cost function in logistic regression is:\n",
    "$$E(\\theta) = \\frac{1}{n} \\sum_{i=1}^{n} \\left [ -y^{(i)} \\log{(h_\\theta(x^{(i)}))} - (1 - y^{(i)}) \\log{(1 - h_\\theta(x^{(i)}))} \\right ]$$\n",
    "\n",
    "and the gradient of the cost, $\\nabla E(\\theta)$, is a vector of the same length as $\\theta$ defined as:\n",
    "\n",
    "$$\n",
    "\\nabla E(\\theta) = \\left ( \\frac{\\partial E(\\theta)}{\\partial \\theta_0}, \\frac{\\partial E(\\theta)}{\\partial \\theta_1}, \\frac{\\partial E(\\theta)}{\\partial \\theta_2}, \\dots \\right )\n",
    "\\quad \\quad \\text{ where the $j^{th}$ element }\n",
    "\\frac{\\partial E(\\theta)}{\\partial \\theta_j} = \\frac{1}{n} \\sum_{i=1}^{n} \\left [ h_{\\theta}(x^{(i)}) - y^{(i)} \\right ] ~ x^{(i)}_j\n",
    "$$\n",
    "\n",
    "Note that while this gradient looks identical to the linear regression gradient, the formula is actually different because linear and logistic regression have different definitions of $h_\\theta(x)$.\n",
    "\n",
    "Complete the Python code below to return the cost and gradient. You can use `np.log(..)` to compute the $\\log$. Once you implement the cost function $E$ correctly, calling it with an initial $\\theta$ of zeros should return a cost of about $0.693$."
   ]
  },
  {
   "cell_type": "code",
   "execution_count": 27,
   "metadata": {},
   "outputs": [
    {
     "name": "stdout",
     "output_type": "stream",
     "text": [
      "0.6931471805599458\n"
     ]
    }
   ],
   "source": [
    "\"\"\" TODO:\n",
    "Write code for the definition of the cost function. If possible, try to implement \n",
    "it in a vectorized form (by manipulating arrays directly without using a loop). If \n",
    "you are not able to implement it in a vectorized form, then it's fine to use a loop.\n",
    "\"\"\"\n",
    "def E(theta, X, y):\n",
    "    result = 0 \n",
    "    for i in range(len(X)):\n",
    "        result += (-y[i] * np.log(h(theta , X[i])) - (1 - y[i])*np.log(1 - h(theta , X[i])))\n",
    "    result = result / len(X)\n",
    "    return result \n",
    "\n",
    "\"\"\" TODO:\n",
    "Call your cost function here to test it using an initial theta of all zeros, and \n",
    "using X_new (instead of X). Calling E(theta, X_new, y) should return about 0.693.\n",
    "\"\"\"\n",
    "theta = np.array([0, 0, 0])\n",
    "print( E(theta, X_new, y) )\n",
    "\n",
    "\n",
    "\"\"\" TODO:\n",
    "Write the definition of the gradient function. It should return an array containing \n",
    "the derivative of the cost function with respect to each parameter theta[j].\n",
    "\"\"\"\n",
    "def gradE(theta, X, y):\n",
    "    result = []\n",
    "    for j in range(len(X[0])):\n",
    "        sum = 0 \n",
    "        for i in range(len(X)):\n",
    "            sum += (h(theta, X[i]) - y[i]) * X[i][j]\n",
    "        sum = sum / len(X)\n",
    "        result.append(sum)\n",
    "    return result\n"
   ]
  },
  {
   "cell_type": "markdown",
   "metadata": {},
   "source": [
    "## Learning parameters using scipy.optimize.minimize\n",
    "\n",
    "In the previous Lab, you found the optimal parameters of a linear regression model by implementing gradient descent. You wrote a cost function and calculated its gradient, then took a gradient descent step accordingly. This time, instead of taking gradient descent steps, you will use a Python function predefined in the `scipy` library: `scipy.optimize.minimize(..)`. This function is an optimization solver that finds the minimum of a given function. For logistic regression, you want to optimize the cost function $E(\\theta)$ with parameters $\\theta$.\n",
    "\n",
    "Concretely, you are going to use `scipy.optimize.minimize(..)` to find the best parameters $\\theta$ for the logistic regression cost function, given a fixed dataset (`X_new` and `y` values). You will pass to `scipy.optimize.minimize(..)` the following arguments (in that order) :\n",
    "\n",
    "- Name of the cost function to be minimized. In our case, it's just `E`\n",
    "- Array of initial parameter values $\\theta$. In our case, `theta`.\n",
    "- Tuple of extra arguments (in addition to $\\theta$) passed to the cost function and the gradient function. In our case, it's `(X_new, y)`\n",
    "- String corresponding to type of the optimization solver. Here you can use `\"TNC\"` which refers to *Truncated Newton algorithm*.\n",
    "- Name of the function that computes the gradient vector. In our case, it's just `gradE`.\n",
    "\n",
    "`scipy.optimize.minimize(..)` returns an object containing the optimization results. The most important attribute of this object is called `x` and represent the optimal solution array (i.e. the best $\\theta$). So, once you call `res = scipy.optimize.minimize(..)`, you can get the optimal $\\theta$ simply using `res.x`.\n",
    "\n",
    "For more information about `scipy.optimize.minimize(..)`, you can visit:\n",
    "- https://docs.scipy.org/doc/scipy/reference/generated/scipy.optimize.minimize.html#scipy.optimize.minimize\n",
    "- https://docs.scipy.org/doc/scipy/reference/optimize.html\n",
    "\n",
    "Complete the Python code below to find the optimal parameter vector $\\theta$ for logistic regression.\n",
    "\n",
    "Notice that by using `scipy.optimize.minimize(..)`, you do not have to write any loops yourself, or set a learning rate like you did for gradient descent. This is all done by `scipy.optimize.minimize(..)`: you only needed to provide a function calculating the cost and the gradient. Once `scipy.optimize.minimize(..)` completes, calling the cost function function using the optimal parameters of $\\theta$  should give you a cost of about $0.203$."
   ]
  },
  {
   "cell_type": "code",
   "execution_count": 45,
   "metadata": {},
   "outputs": [
    {
     "name": "stdout",
     "output_type": "stream",
     "text": [
      "Initial cost:  0.6931471805599458\n",
      "Optimal parameters:  [-25.16131869   0.20623159   0.20147149]\n",
      "[-25.16131869   0.20623159   0.20147149]\n"
     ]
    }
   ],
   "source": [
    "import scipy.optimize as op\n",
    "\n",
    "theta = np.array([0, 0, 0])  # Some initial parameters vector\n",
    "print(\"Initial cost: \", E(theta, X_new, y))\n",
    "\n",
    "\n",
    "\"\"\" TODO:\n",
    "Use op.minimize(..) with the right arguments (as explained above) in order \n",
    "to minimize the cost function E. Then, print the optimal parameter vector theta and the final cost.\n",
    "\"\"\"\n",
    "res = op.minimize(E, theta, (X_new,y), \"TNC\", gradE)\n",
    "print(\"Optimal parameters: \", res.x)\n",
    "theta = res.x\n",
    "print(theta)\n",
    "\n"
   ]
  },
  {
   "cell_type": "markdown",
   "metadata": {},
   "source": [
    "## Plotting the decision boundary\n",
    "One you get the optimal parameters of $\\theta$, you can call the function `plot_decision_boundary(X, y, theta)` defined in the code below to plot the original dataset and the decision boundary. Read the code carefully to see how such a boundary is ploted using the $\\theta$ values. Basically, the equation of our decision boundary is: $\\theta_0 + \\theta_1 x_1 + \\theta_2 x_2 = 0$. So, to plot it, we generate a range of values for $x_1$ and we compute the corresponding values of $x_2 = - \\frac{\\theta_0 + \\theta_1 x_1}{\\theta_2}$.\n",
    "\n",
    "You are supposed to get a plot that looks like the following figure:\n",
    "<img src=\"imgs/UnivAdmScatterPlotLab3AwithDB.png\" width=\"500px\" />\n"
   ]
  },
  {
   "cell_type": "code",
   "execution_count": 47,
   "metadata": {},
   "outputs": [
    {
     "name": "stdout",
     "output_type": "stream",
     "text": [
      "Check out plot 2: [94.17893975 93.15531307 92.1316864  91.10805972 90.08443304 89.06080636\n",
      " 88.03717968 87.01355301 85.98992633 84.96629965 83.94267297 82.9190463\n",
      " 81.89541962 80.87179294 79.84816626 78.82453958 77.80091291 76.77728623\n",
      " 75.75365955 74.73003287 73.70640619 72.68277952 71.65915284 70.63552616\n",
      " 69.61189948 68.5882728  67.56464613 66.54101945 65.51739277 64.49376609\n",
      " 63.47013942 62.44651274 61.42288606 60.39925938 59.3756327  58.35200603\n",
      " 57.32837935 56.30475267 55.28112599 54.25749931 53.23387264 52.21024596\n",
      " 51.18661928 50.1629926  49.13936592 48.11573925 47.09211257 46.06848589\n",
      " 45.04485921 44.02123253 42.99760586 41.97397918 40.9503525  39.92672582\n",
      " 38.90309915 37.87947247 36.85584579 35.83221911 34.80859243 33.78496576\n",
      " 32.76133908 31.7377124  30.71408572 29.69045904 28.66683237 27.64320569\n",
      " 26.61957901 25.59595233 24.57232565 23.54869898]\n",
      "Check out theta[2] :0.20147148690699115\n"
     ]
    },
    {
     "data": {
      "image/png": "[encoded data removed]",
      "text/plain": [
       "<Figure size 640x480 with 1 Axes>"
      ]
     },
     "metadata": {},
     "output_type": "display_data"
    }
   ],
   "source": [
    "%matplotlib inline\n",
    "# This is a function that plots the original dataset (X, y) and decision boundary:\n",
    "def plot_decision_boundary(X, y, theta):\n",
    "    X0 = X[y==0] # subset of the non admitted students\n",
    "    X1 = X[y==1] # subset of the admitted students\n",
    "    \n",
    "    fig, ax = plt.subplots()\n",
    "    \n",
    "    # Plottin the dataset:\n",
    "    ax.scatter(X0[:, 0], X0[:, 1], marker=\"o\", color=\"red\", label=\"Non admitted\")\n",
    "    ax.scatter(X1[:, 0], X1[:, 1], marker=\"*\", color=\"blue\", label=\"Admitted\")\n",
    "    ax.set_xlabel(\"Exam 1 score\")\n",
    "    ax.set_ylabel(\"Exam 2 score\")\n",
    "    \n",
    "    # Plotting the decision boundary:\n",
    "    plot_x1 = np.arange(30, 100) # range of values from 30 to 100\n",
    "    plot_x2 = - (theta[0] + theta[1] * plot_x1) / theta[2]\n",
    "    print(f\"Check out plot 2: {plot_x2}\")\n",
    "    print(f\"Check out theta[2] :{theta[2]}\")\n",
    "    plt.plot(plot_x1, plot_x2, color=\"green\", label=\"Decision boundary\")\n",
    "    \n",
    "    ax.set_title(\"Plot of the training data and decision boundary\")\n",
    "    plt.legend()\n",
    "    plt.show()\n",
    "\n",
    "\"\"\" TODO:\n",
    "Call the function plot_decision_boundary(X, y, theta) with \n",
    "the optimal theta parameters that you got previously.\n",
    "\"\"\"\n",
    "# print(theta)\n",
    "plot_decision_boundary(X , y , theta)"
   ]
  },
  {
   "cell_type": "markdown",
   "metadata": {},
   "source": [
    "## Evaluating the logistic regression model\n",
    "After learning the parameters, you can use the model to predict whether a particular student will be admitted. For a student with an Exam 1 score of $45$ and an Exam 2 score of $85$, you should expect to see an admission probability of about $0.776$."
   ]
  },
  {
   "cell_type": "code",
   "execution_count": null,
   "metadata": {},
   "outputs": [
    {
     "name": "stdout",
     "output_type": "stream",
     "text": [
      "Admission probability of this student x : 0.7762906253511527\n"
     ]
    }
   ],
   "source": [
    "# Student with an Exam 1 score of 45 and an Exam 2 score of 85\n",
    "x = np.array([1, 45, 85])\n",
    "\n",
    "\"\"\" TODO:\n",
    "Predict the admission probability of student x, by calling the hypothesis \n",
    "function with x and the optimal parameters theta. You should expect to get \n",
    "an admission probability of about 0.776 for this student x.\n",
    "\"\"\"\n",
    "print(\"Admission probability of this student x :\" , h(theta))"
   ]
  },
  {
   "cell_type": "markdown",
   "metadata": {},
   "source": [
    "One way to evaluate the quality of the parameters we have found is to see how well the learned model predicts on our training set. In this part, your task is to complete the Python code below (read the *TODO* comments carefully). The `predict` function should produce an array of \"$1$\" or \"$0$\" predictions given a dataset and a learned parameters vector $\\theta$. After you have completed the implementation of the `predict` function, you are asked to report the training accuracy of your classifier by computing the percentage of examples for which you correctly predicted the class-label.\n",
    "\n",
    "*Note*: We will see later in the course that computing the ***training** accuracy* is NOT a good way to evaluate the quality of your machine learning model."
   ]
  },
  {
   "cell_type": "code",
   "execution_count": 60,
   "metadata": {},
   "outputs": [
    {
     "name": "stdout",
     "output_type": "stream",
     "text": [
      "Accuracy 0.89\n"
     ]
    }
   ],
   "source": [
    "from sklearn.metrics import accuracy_score\n",
    "\"\"\" TODO:\n",
    "Write the definition of the function predict(theta, X) which returns an array of \n",
    "predictions. Each prediction corresponds to a data-point x and is either 1 or 0, \n",
    "depending on whether or not the admission probability h(theta, x) is higher than 0.5.\n",
    "\"\"\"\n",
    "def predict(theta, X):\n",
    "    predicted = []\n",
    "    for x_i in X :\n",
    "        if sigmoid(np.dot(x_i, theta)) < 0.5:\n",
    "            predicted.append(0)\n",
    "        else :\n",
    "            predicted.append(1)\n",
    "    return predicted\n",
    "\n",
    "\n",
    "\"\"\" TODO:\n",
    "Predict the class-labels of the data-points in the training set by calling the function \n",
    "predict(..) with the optimal parameters vector theta and X_new. Then, compute the classification \n",
    "accuracy by comparing the predicted class-labels with the actual (true) class-labels y.\n",
    "\"\"\"\n",
    "y_pred = predict(theta  , X_new)\n",
    "accuracy = accuracy_score(y , y_pred)\n",
    "print(\"Accuracy\", accuracy)"
   ]
  },
  {
   "cell_type": "code",
   "execution_count": null,
   "metadata": {},
   "outputs": [],
   "source": []
  }
 ],
 "metadata": {
  "kernelspec": {
   "display_name": "base",
   "language": "python",
   "name": "python3"
  },
  "language_info": {
   "codemirror_mode": {
    "name": "ipython",
    "version": 3
   },
   "file_extension": ".py",
   "mimetype": "text/x-python",
   "name": "python",
   "nbconvert_exporter": "python",
   "pygments_lexer": "ipython3",
   "version": "3.11.7"
  }
 },
 "nbformat": 4,
 "nbformat_minor": 2
}
