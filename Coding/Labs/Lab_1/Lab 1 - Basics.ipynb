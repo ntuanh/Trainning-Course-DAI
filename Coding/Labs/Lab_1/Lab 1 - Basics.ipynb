{
 "cells": [
  {
   "cell_type": "markdown",
   "metadata": {},
   "source": [
    "# Lab 1: Basics\n",
    "\n",
    "Welcome to your first Lab in the learning systems course. This is an easy Lab that gives you a brief introduction to Numpy and Matplotlib (both are Python libraries).\n",
    "\n",
    "<div class=\"alert alert-block alert-danger\">\n",
    "\n",
    "__IMPORTANT__ \n",
    "Please complete this Jupyter Notebook file and upload it to blackboard __before 30 January 2020__.\n",
    "</div>\n",
    "\n",
    "## 1. Introduction to Numpy\n",
    "Numpy is a Python library which has support for large multi-dimensional arrays and matrices, along with a large collection of high-level mathematical functions to operate on these arrays. It is often the starting point of data pre-processing and implementing basic ML algorithms.\n",
    "\n",
    "Run the following code to import numpy."
   ]
  },
  {
   "cell_type": "code",
   "execution_count": null,
   "metadata": {},
   "outputs": [
    {
     "name": "stdout",
     "output_type": "stream",
     "text": [
      "Hello world \n"
     ]
    }
   ],
   "source": [
    "# First we import the numpy Library and call it np\n",
    "import numpy as np\n"
   ]
  },
  {
   "cell_type": "markdown",
   "metadata": {},
   "source": [
    "### Creating a Vector\n",
    "Here we use numpy to create a **1-dimensional array** which represents a row vector. Since this vector contains 3 values, it is a **vector of dimension 3** (i.e. $\\in \\mathbb{R}^{3}$)."
   ]
  },
  {
   "cell_type": "code",
   "execution_count": 3,
   "metadata": {},
   "outputs": [
    {
     "name": "stdout",
     "output_type": "stream",
     "text": [
      "[7 2 9]\n",
      "The shape of this vector is: (3,)\n"
     ]
    }
   ],
   "source": [
    "# Create a vector as a row\n",
    "vector_row = np.array([7, 2, 9])\n",
    "\n",
    "print(vector_row)\n",
    "print(\"The shape of this vector is:\", vector_row.shape)"
   ]
  },
  {
   "cell_type": "markdown",
   "metadata": {},
   "source": [
    "### Creating a Matrix\n",
    "Here, we create a **2-dimensional array** (i.e. a matrix) with 2 rows and 3 columns."
   ]
  },
  {
   "cell_type": "code",
   "execution_count": 4,
   "metadata": {},
   "outputs": [
    {
     "name": "stdout",
     "output_type": "stream",
     "text": [
      "[[1 2 3]\n",
      " [4 5 6]]\n",
      "The shape is: (2, 3)\n"
     ]
    }
   ],
   "source": [
    "matrix = np.array([[1, 2, 3], [4, 5, 6]])\n",
    "\n",
    "print(matrix)\n",
    "print(\"The shape is:\", matrix.shape)"
   ]
  },
  {
   "cell_type": "markdown",
   "metadata": {},
   "source": [
    "### Operations on arrays\n",
    "Using numpy arrays, you can directly perform operations such as vector addition/substration in an easy way. In the code below, you are asked to create two numpy arrays $u$ and $v$ of the same length, then follow the remaining *TODO* comments to perform other kind of operations on these arrays (addition, substraction, elementwise mutiplication etc.)"
   ]
  },
  {
   "cell_type": "code",
   "execution_count": 11,
   "metadata": {},
   "outputs": [
    {
     "name": "stdout",
     "output_type": "stream",
     "text": [
      "Addition u + v : \n",
      "[ 7  9 11 13 15]\n",
      "Subtraction u - v : \n",
      "[-5 -5 -5 -5 -5]\n",
      "Element wise : u * v \n",
      "[ 6 14 24 36 50]\n",
      "Dot product : u . v\n",
      "130\n",
      "Multuply each element : 2 * u\n",
      "[ 2  4  6  8 10]\n"
     ]
    }
   ],
   "source": [
    "\"\"\" TODO:\n",
    "Create two numpy array u and v of the same size\n",
    "\"\"\"\n",
    "# u = ...\n",
    "# v = ...\n",
    "\n",
    "### by ntuanh \n",
    "u = np.array([1, 2, 3, 4, 5])\n",
    "v = np.array([6, 7, 8, 9, 10])\n",
    "\n",
    "\"\"\" TODO:\n",
    "Uncomment the following line to see the result of adding the two arrays u and v\n",
    "\"\"\"\n",
    "print(\"Addition u + v : \")\n",
    "print(u + v)\n",
    "\n",
    "\"\"\" TODO:\n",
    "Substract the two arrays u - v and print the result\n",
    "\"\"\"\n",
    "print(\"Subtraction u - v : \")\n",
    "print(u - v)\n",
    "\n",
    "\"\"\" TODO:\n",
    "Multiply each element of the first array u with the corresponding element of the second \n",
    "array v, using u * v. Note that this is the elementwise multiplication and  NOT the dot \n",
    "product between the two vectors u and v.\n",
    "\"\"\"\n",
    "print(\"Element wise : u * v \")\n",
    "print(u * v)\n",
    "\n",
    "print(\"Dot product : u . v\")\n",
    "print(u.dot(v))\n",
    "\n",
    "\"\"\" TODO:\n",
    "Multiply each element of the vector u by 2, using 2 * u\n",
    "\"\"\"\n",
    "print(\"Multuply each element : 2 * u\")\n",
    "print(2*u)"
   ]
  },
  {
   "cell_type": "markdown",
   "metadata": {},
   "source": [
    "The same kind of operations also work for matricies represented as numpy arrays. Check and complete the following code for an example."
   ]
  },
  {
   "cell_type": "code",
   "execution_count": 12,
   "metadata": {},
   "outputs": [
    {
     "name": "stdout",
     "output_type": "stream",
     "text": [
      "[[11 22 33]\n",
      " [44 55 66]]\n",
      "Element wise \n",
      "[[ 10  40  90]\n",
      " [160 250 360]]\n"
     ]
    }
   ],
   "source": [
    "A = np.array([\n",
    "    [1, 2, 3], \n",
    "    [4, 5, 6],\n",
    "])\n",
    "\n",
    "B = np.array([\n",
    "    [10, 20, 30], \n",
    "    [40, 50, 60],\n",
    "])\n",
    "\n",
    "print(A + B) # Here matricies A and B should have the same dimensions (number of lines and columns)\n",
    "\n",
    "\"\"\" TODO:\n",
    "Complete the code to multiply each element of the matrix A by the corresponding \n",
    "element of matrix B. Note that this is not the matrix by matrix multiplication, it is a \n",
    "simple elementwise multiplication between the elements of the two matrices.\n",
    "\"\"\"\n",
    "print(\"Element wise \")\n",
    "print(A * B )\n"
   ]
  },
  {
   "cell_type": "markdown",
   "metadata": {},
   "source": [
    "### Datasets as numpy arrays\n",
    "In supervised learning, the training dataset consists of the input data $X$ and the corresponding outputs $y$. The data $X \\in \\mathbb{R}^{n \\times d}$ is a matrix of $n$ lines and $d$ columns. Each column corresponds to a feature, and each line corresponds to a data-point which is a vector of dimension $d$. The $y \\in \\mathbb{R}^n$ consist of a vector of $n$ outputs. The $i^{th}$ output $y^{(i)}$ in $y$ corresponds to the $i^{th}$ data-point $x^{(i)}$ in $X$ (i.e. the $i^{th}$ row).\n",
    "\n",
    "In Python, we can represent $X$ and $y$ as `numpy` arrays as shown in the code below."
   ]
  },
  {
   "cell_type": "code",
   "execution_count": 17,
   "metadata": {},
   "outputs": [
    {
     "name": "stdout",
     "output_type": "stream",
     "text": [
      "\n",
      "----- Input data X and outputs y :\n",
      "[[0 2 3]\n",
      " [1 4 5]\n",
      " [2 6 7]\n",
      " [3 8 9]\n",
      " [4 2 3]\n",
      " [5 4 5]\n",
      " [6 6 7]\n",
      " [7 8 9]\n",
      " [8 2 3]]\n",
      "[0 1 1 0 0 0 1 1 0]\n",
      "\n",
      "----- Shape of X and y :\n",
      "Shape of X:  (9, 3)\n",
      "Shape of y:  (9,)\n",
      "\n",
      "----- Length of X and y (i.e. number of data-points) :\n",
      "9\n",
      "9\n",
      "\n",
      " The number of features (i.e. columns in X) is 3\n",
      "<class 'tuple'>\n"
     ]
    }
   ],
   "source": [
    "import numpy as np\n",
    "\n",
    "# This is a list of lists\n",
    "X = [[0, 2, 3],\n",
    "     [1, 4, 5],\n",
    "     [2, 6, 7],\n",
    "     [3, 8, 9],\n",
    "     [4, 2, 3],\n",
    "     [5, 4, 5],\n",
    "     [6, 6, 7],\n",
    "     [7, 8, 9],\n",
    "     [8, 2, 3]]\n",
    "\n",
    "# X is now a matrix (or a 2-dimensional numpy array)\n",
    "X = np.array(X)\n",
    "\n",
    "# y is a numpy array\n",
    "y = np.array([0, 1, 1, 0, 0, 0, 1, 1, 0])\n",
    "\n",
    "print(\"\\n----- Input data X and outputs y :\")\n",
    "print(X)\n",
    "print(y)\n",
    "\n",
    "print(\"\\n----- Shape of X and y :\")\n",
    "print(\"Shape of X: \", X.shape) # 9 lines (data-points) and 3 columns (features)\n",
    "print(\"Shape of y: \", y.shape) # 9 output values\n",
    "\n",
    "print(\"\\n----- Length of X and y (i.e. number of data-points) :\")\n",
    "print(len(X)) # the number of data-points (n = 9). Same as X.shape[0]\n",
    "print(len(y)) # the length of the array y (n = 9).\n",
    "\n",
    "print(\"\\n The number of features (i.e. columns in X) is\", X.shape[1])\n",
    "print(type(X.shape))"
   ]
  },
  {
   "cell_type": "markdown",
   "metadata": {},
   "source": [
    "### Selecting subsets of arrays\n",
    "You will find it useful later on to select a subset of the dataset (e.g. some lines and/or some columns). The Python code below gives some examples of this. You can read the code and run it to see the results and get familiar with the syntax."
   ]
  },
  {
   "cell_type": "code",
   "execution_count": 42,
   "metadata": {},
   "outputs": [
    {
     "name": "stdout",
     "output_type": "stream",
     "text": [
      "\n",
      "Example 6. An array from X consisting of all rows, and only column 0 :\n",
      "[0 1 2 3 4 5 6 7 8]\n",
      "\n",
      "Example 7. An array from X consisting of all rows, and only the last column (-1) :\n",
      "[3 5 7 9 3 5 7 9 3]\n",
      "\n",
      "Example 8. An array from X consisting of only row 2, and all columns :\n",
      "[2 6 7]\n",
      "\n",
      "Example 9. The scalar value from X at row 2 and column 0 :\n",
      "2\n",
      "\n",
      "Example 10. Subset of X consisting of rows 2, 5 and 7  :\n",
      "[[2 6 7]\n",
      " [5 4 5]\n",
      " [7 8 9]]\n",
      "Explore : \n",
      "[[2 7]\n",
      " [5 5]\n",
      " [7 9]]\n"
     ]
    }
   ],
   "source": [
    "# print(\"The matrix X is:\")\n",
    "# print(X)\n",
    "\n",
    "# print(\"Example 1. Subset of X between rows 2 to 6 (excluded) :\")\n",
    "# print( X[2:6] )\n",
    "\n",
    "# print(\"\\nExample 2. Sub-array of y between index 2 to 6 (excluded) :\")\n",
    "# print( y[2:6] )\n",
    "\n",
    "# print(\"\\nExample 3. Subset of X between rows 2 to 6, and columns 0 to 2 :\")\n",
    "# print( X[2:6, 0:2] ) # same as X[2:6, :2]\n",
    "\n",
    "# print(\"\\nExample 4. Subset of X between rows 2 to 6, and only column 1 :\")\n",
    "# print( X[2:6, 1] )\n",
    "\n",
    "# print(\"\\nExample 5. Subset of X between rows 2 to 6, and only columns 0 and 2 :\")\n",
    "# print( X[2:6, [0,2]] )\n",
    "\n",
    "print(\"\\nExample 6. An array from X consisting of all rows, and only column 0 :\")\n",
    "print( X[:, 0] )\n",
    "\n",
    "print(\"\\nExample 7. An array from X consisting of all rows, and only the last column (-1) :\")\n",
    "print( X[:, -1] )\n",
    "\n",
    "print(\"\\nExample 8. An array from X consisting of only row 2, and all columns :\")\n",
    "print( X[2] ) # same as X[2, :]\n",
    "\n",
    "print(\"\\nExample 9. The scalar value from X at row 2 and column 0 :\")\n",
    "print( X[2, 0] ) # same as X[2][0]\n",
    "\n",
    "print(\"\\nExample 10. Subset of X consisting of rows 2, 5 and 7  :\")\n",
    "print( X[[2,5,7]] )\n",
    "\n",
    "print(\"Explore : \")\n",
    "\n",
    "# subX = X[[2 , 5, 7]]\n",
    "# print( subX[ : , [0, 2]] )\n",
    "print(X[[2, 5, 7]][:, [0, 2]])\n"
   ]
  },
  {
   "cell_type": "markdown",
   "metadata": {},
   "source": [
    "## Dot product of two vectors\n",
    "The dot product of two vectors $u \\in \\mathbb{R}^d$ and $v \\in \\mathbb{R}^d$ (of the same dimension $d$) is defined as: $u . v = u^T v = \\sum_{j=0}^{d-1} u_j v_j$. In Python, it is easy to compute this without using a loop, with one of the following methods:\n",
    "- using `np.dot(u, v)`\n",
    "- or in Python 3 using: `u @ v` which is prefered and more explicit."
   ]
  },
  {
   "cell_type": "code",
   "execution_count": 51,
   "metadata": {},
   "outputs": [
    {
     "name": "stdout",
     "output_type": "stream",
     "text": [
      "37\n",
      "37\n",
      "37\n"
     ]
    }
   ],
   "source": [
    "u = np.array([1, 2, 10]) # u has shape (3,)\n",
    "v = np.array([5, 1, 3])  # v has shape (3,)\n",
    "\n",
    "\"\"\" TODO:\n",
    "Compute here the dot product of u and v using three methods:\n",
    "- using the np.dot function\n",
    "- using the @ operator\n",
    "- using the euqation shown above (with the sum)\n",
    "You should get the same result with the three methods.\n",
    "\"\"\"\n",
    "\n",
    "print(u.dot(v))\n",
    "print(u @ v)\n",
    "print(np.sum(u * v)) "
   ]
  },
  {
   "cell_type": "markdown",
   "metadata": {},
   "source": []
  },
  {
   "cell_type": "markdown",
   "metadata": {},
   "source": [
    "## Product of a matrix and a vector\n",
    "Computing the product of a matrix $A$ and a vector $v$ requires computing the dot product of each row of $A$ with the vector $v$. This means that the number of columns in the matrix $A$ should be equal to the dimension of the vector $v$. In Python 3, it is easy to compute the product of a matrix $A$ and a vector $v$ simply using `A @ v` (assuming that $A \\in \\mathbb{R}^{n \\times d}$ and $v \\in \\mathbb{R}^{d}$)."
   ]
  },
  {
   "cell_type": "code",
   "execution_count": 4,
   "metadata": {},
   "outputs": [
    {
     "name": "stdout",
     "output_type": "stream",
     "text": [
      "[22 61]\n",
      "(3,)\n"
     ]
    }
   ],
   "source": [
    "# Matrix A has n=2 lines and d=3 columns\n",
    "import numpy as np \n",
    "\n",
    "A = np.array([\n",
    "    [1, 2, 3], \n",
    "    [4, 5, 6],\n",
    "])\n",
    "\n",
    "# Vector v is of dimension d=3\n",
    "# v = np.array(\n",
    "#     [6,\n",
    "#      5,\n",
    "#      2])\n",
    "v = np.array(\n",
    "    [6 , 5 , 2]\n",
    ")\n",
    "\n",
    "\"\"\" TODO:\n",
    "Compute here the product of A and v. The product \n",
    "should be a vector of dimension n=2.\n",
    "\"\"\"\n",
    "print(A @ v)\n",
    "\n",
    "print(v.shape)\n"
   ]
  },
  {
   "cell_type": "markdown",
   "metadata": {},
   "source": [
    "## Product of two matricies\n",
    "Computing the product of two matrices $A$ and $B$ requires computing the dot product between each line of the first matrix, with each column of the second matrix. This means that the number of columns in the first matrix should be equal to the number of lines in the second matrix. In Python 3, it is easy to compute the product of two matricies $A$ and $B$ simply using `A @ B` (assuming that $A \\in \\mathbb{R}^{n \\times d}$ and $B \\in \\mathbb{R}^{d \\times k}$)."
   ]
  },
  {
   "cell_type": "code",
   "execution_count": 5,
   "metadata": {},
   "outputs": [
    {
     "name": "stdout",
     "output_type": "stream",
     "text": [
      "[[28 25 16 28]\n",
      " [64 67 43 76]]\n"
     ]
    }
   ],
   "source": [
    "# A has n=2 lines and d=3 columns\n",
    "A = np.array([\n",
    "    [1, 2, 3], \n",
    "    [4, 5, 6],\n",
    "])\n",
    "\n",
    "# B has d=3 lines and k=4 columns\n",
    "B = np.array([\n",
    "    [2, 8, 4, 9], \n",
    "    [4, 1, 3, 2],\n",
    "    [6, 5, 2, 5],\n",
    "])\n",
    "\n",
    "\"\"\" TODO:\n",
    "Compute here the product of A and B. The product \n",
    "should be a matrix of n=2 lines and k=4 columns.\n",
    "\"\"\"\n",
    "\n",
    "print(A @ B)\n"
   ]
  },
  {
   "cell_type": "markdown",
   "metadata": {},
   "source": [
    "## Make predictions with a linear machine learning model\n",
    "\n",
    "### 1) Predicting one output with one model using a dot product\n",
    "Let $x = \\begin{bmatrix} 1 \\\\ x_1 \\\\ x_2 \\\\ \\vdots \\\\ x_d \\end{bmatrix}$ be a new input data-point, and $\\theta = \\begin{bmatrix} \\theta_0 \\\\ \\theta_1 \\\\ \\theta_2 \\\\ \\vdots \\\\ \\theta_d \\end{bmatrix}$ be the parameters vector of a linear machine learning model. \n",
    "\n",
    "To predict the output corresponding to $x$ using a **linear model** $h_\\theta$, we need to compute the dot product between $x$ and $\\theta$. So our predicted output is $h_\\theta(x) = \\theta^T x = \\theta_0 + \\theta_1 x_1 + \\dots + \\theta_d x_d$. Note that the vector $x$ has an additional first value $x_0 = 1$, so that the dot product $\\theta^T x$ can be computed (i.e. $x$ and $\\theta$ should be of the same dimension).\n",
    "\n",
    "### 2) Predicting multiple outputs with one model using a matrix-vector product\n",
    "Assume now that several data-points are stacked as rows in a matrix $X$ (i.e. each row corresponds to one data-point). To predict the outputs of all data-points in a dataset $X$ using the linear model $h_\\theta$, we can simply multiply the dataset matrix by the vector of parameters $\\theta$. So our predicted outputs will be a vector $X \\theta$, as illustrated in the following figure. Note that the first column of $X$ is set to all ones (i.e. each data-point in $X$ starts with 1).\n",
    "<img src=\"imgs/matrixProdLab1.png\" width=\"600px\" />\n",
    "\n",
    "### 3) Predicting multiple outputs with multiple models using a matrix-matrix product\n",
    "To predict the outputs of all data-points in a dataset $X$ using multiple linear models $h^{(1)}_\\theta, h^{(2)}_\\theta, h^{(3)}_\\theta, \\dots$, we can simply multiply the dataset matrix by another matrix $H$. Each column of the matrix $H$ corresponds to the parameters vector of one model. So our predicted outputs will be a matrix $X H$, as illustrated in the following figure.\n",
    "<img src=\"imgs/matrix2ProdLab1.png\" width=\"600px\" />\n",
    "\n",
    "Complete the *TODO*s in the following Python code to make predictions using the provided model parameters. Note that, here, all the model parameters are provided to you. We will see later in the course how to learn or estimate the values of such parameters."
   ]
  },
  {
   "cell_type": "code",
   "execution_count": 6,
   "metadata": {},
   "outputs": [
    {
     "name": "stdout",
     "output_type": "stream",
     "text": [
      "Predict the output corresponding of new data-point using model 1 \n",
      "70\n",
      "Predict the output corresponding of data set X using model 1 \n",
      "[86 56 49 23 29]\n",
      "Predict the output corresponding of data set X using model 1, 2 and 3\n",
      "[[86 -2 39]\n",
      " [56 50 37]\n",
      " [49 74 54]\n",
      " [23 32 24]\n",
      " [29 14 14]]\n",
      "Averange :\n",
      "[41.         47.66666667 59.         26.33333333 19.        ]\n"
     ]
    }
   ],
   "source": [
    "import numpy as np\n",
    "\n",
    "# The parameters vectors corresponding to three linear models\n",
    "theta_model_1 = np.array([4, 3, 7, 2]) # parameters vector of model_1\n",
    "theta_model_2 = np.array([8, 2, -4, 8]) # parameters vector of model_2\n",
    "theta_model_3 = np.array([5, -1, 3, 6]) # parameters vector of model_3\n",
    "\n",
    "# Dataset represented as a matrix X\n",
    "X = np.array([[1, 5, 9, 2],\n",
    "              [1, 7, 3, 5],\n",
    "              [1, 5, 2, 8],\n",
    "              [1, 2, 1, 3],\n",
    "              [1, 3, 2, 1]])\n",
    "\n",
    "# New data-point x represented as a vector\n",
    "x = np.array([1, 3, 7, 4])\n",
    "\n",
    "\"\"\" TODO:\n",
    "Predict the output corresponding to the new data-point x using model_1 \n",
    "(i.e. using the parameters vector theta_model_1).\n",
    "The result should be a scalar value (just one output value)\n",
    "\"\"\"\n",
    "print(\"Predict the output corresponding of new data-point using model 1 \")\n",
    "print( x @ theta_model_1)\n",
    "\n",
    "\n",
    "\"\"\" TODO:\n",
    "Predict the outputs corresponding to all data-points in the dataset X \n",
    "using model_1 (i.e. using the parameters vector theta_model_1).\n",
    "The result should be a vector of len(X) outputs.\n",
    "\"\"\"\n",
    "print(\"Predict the output corresponding of data set X using model 1 \")\n",
    "print(X @ theta_model_1)\n",
    "\n",
    "\"\"\" TODO:\n",
    "Predict the outputs corresponding to all data-points in the dataset X \n",
    "using model_1, model_2, and model_3.\n",
    "The result should be a matrix of len(X) lines and 3 columns (as we have 3 models)\n",
    "\"\"\"\n",
    "print(\"Predict the output corresponding of data set X using model 1, 2 and 3\")\n",
    "theta_models = np.vstack((theta_model_1 , theta_model_2 , theta_model_3))\n",
    "theta_models = np.transpose(theta_models)\n",
    "\n",
    "# print(theta_models.shape)\n",
    "# print(X.shape)\n",
    "predicted =  X@theta_models\n",
    "print(predicted)\n",
    "\n",
    "\n",
    "\"\"\" TODO:\n",
    "For each data-point, compute the average predicted output of the three models.\n",
    "Use the matrix of predicted outputs that you computed above. The result should \n",
    "be a vector of len(X) outputs.\n",
    "For example: based on the figure shown above, the average predictions would be:\n",
    "[ (20 + 223 + 27) / 3,\n",
    "  (25 + 212 + 4) / 3,\n",
    "  ...,\n",
    "  (21.7 + 214.7 + 14.8) / 3 ]\n",
    "\n",
    "\"\"\"\n",
    "print(\"Averange :\")\n",
    "\n",
    "# sum_matrix = predicted[:][0]\n",
    "\n",
    "# for i in range(1 , len(predicted[0]) , 1):\n",
    "#     sum_matrix = sum_matrix + predicted[:][i]\n",
    "\n",
    "# print(sum_matrix / 3)\n",
    "\n",
    "average = np.mean(predicted, axis=1) \n",
    "print(average)\n"
   ]
  },
  {
   "cell_type": "markdown",
   "metadata": {},
   "source": [
    "## 2. Plotting with Matplotlib\n",
    "Matplotlib is a Python library that allows you to visualize data. First, let's load a simple dataset $X \\in \\mathbb{R}^{300 \\times 2}$ with $n=300$ data-points and $d=2$ features:"
   ]
  },
  {
   "cell_type": "code",
   "execution_count": 19,
   "metadata": {},
   "outputs": [
    {
     "name": "stdout",
     "output_type": "stream",
     "text": [
      "X.shape: (300, 2)\n",
      "[[1.84207953 4.6075716 ]\n",
      " [5.65858312 4.79996405]\n",
      " [6.35257892 3.2908545 ]\n",
      " [2.90401653 4.61220411]\n",
      " [3.23197916 4.93989405]\n",
      " [1.24792268 4.93267846]\n",
      " [1.97619886 4.43489674]\n",
      " [2.23454135 5.05547168]\n",
      " [2.98340757 4.84046406]\n",
      " [2.97970391 4.80671081]]\n"
     ]
    }
   ],
   "source": [
    "from scipy.io import loadmat #get data from MATLAB \n",
    "\n",
    "mat = loadmat(\"datasets/simpleDataset.mat\")\n",
    "X = mat[\"X\"]\n",
    "print(\"X.shape:\", X.shape)\n",
    "\n",
    "\"\"\" TODO:\n",
    "print a small subset of X (e.g. the 10 first rows) to see what it looks like.\n",
    "\"\"\"\n",
    "# ...\n",
    "print(X[:10])"
   ]
  },
  {
   "cell_type": "markdown",
   "metadata": {},
   "source": [
    "Next, run the following cell to import the matplotlib library."
   ]
  },
  {
   "cell_type": "code",
   "execution_count": 44,
   "metadata": {},
   "outputs": [
    {
     "data": {
      "text/plain": [
       "<contextlib.ExitStack at 0x2bd313d1910>"
      ]
     },
     "execution_count": 44,
     "metadata": {},
     "output_type": "execute_result"
    }
   ],
   "source": [
    "%matplotlib notebook\n",
    "import matplotlib.pyplot as plt\n",
    "plt.ion()"
   ]
  },
  {
   "cell_type": "markdown",
   "metadata": {},
   "source": [
    "The first thing to do next is to create a figure `fig` with one subplot `ax` as follows:\n",
    "```python\n",
    "fig, ax = plt.subplots()\n",
    "```\n",
    "\n",
    "A scatter plot allows us to show each feature-vector $x^{(i)}$ (i.e. a row from $X$) as a point on a two dimensional plot. To produce a scatter plot of all our data we use:\n",
    "```python\n",
    "ax.scatter(values_at_feature_0, values_at_feature_1)\n",
    "```\n",
    "The `values_at_feature_0` correspond to the values of feature 0: `X[:, 0]` (i.e. all values at column 0 of $X$),\n",
    "The `values_at_feature_1` correspond to the values of feature 1: `X[:, 1]` (i.e. all values at column 1 of $X$).\n",
    "\n",
    "Then, we display our plot using:\n",
    "```python\n",
    "fig.show()\n",
    "```\n",
    "\n",
    "Read the following code and run the cell to see the plot:"
   ]
  },
  {
   "cell_type": "code",
   "execution_count": 49,
   "metadata": {},
   "outputs": [
    {
     "data": {
      "image/png": "[encoded data removed]",
      "text/plain": [
       "<Figure size 640x480 with 1 Axes>"
      ]
     },
     "metadata": {},
     "output_type": "display_data"
    }
   ],
   "source": [
    "%matplotlib inline\n",
    "fig, ax = plt.subplots()     # create a figure with one subplot\n",
    "ax.scatter(X[:, 0], X[:, 1]) # scatter plot of all the data\n",
    "plt.show()                # display our figure"
   ]
  },
  {
   "cell_type": "markdown",
   "metadata": {},
   "source": [
    "To make our scatter plot more meaningful, we can:\n",
    "1. Add a title to our figure.\n",
    " - We can add a title using `fig.suptitle(\"Your Title Here\")`\n",
    "\n",
    "\n",
    "2. Add a text that describes the x-axis (Feature 0) and y-axis (Feature 1).\n",
    " - We can add a text to describe the first dimension using `ax.set_xlabel(\"...\")`, and a text to describe the second dimension using `ax.set_ylabel(\"...\")`.\n",
    "\n",
    "\n",
    "3. Use a personalized color and a personalized marker for our data-points.\n",
    " - When calling the `ax.scatter(...)` function, can specify a color (e.g. `\"red\"`) and a marker (e.g. `\"x\"`) as follows: `ax.scatter(values_at_feature_0, values_at_feature_1, color=\"red\", marker=\"x\")`. There are several possible markers, some of them are: `\"x\"`, `\"o\"`, `\".\"`, `\"+\"`, `\">\"` ... etc. You can also use any predefined letter as a marker, for example, to use the letter R, your marker should be: `\"$R$\"`.\n",
    "\n",
    "\n",
    "4. Use a legend text to describe something about your data-points.\n",
    " - To do so, when calling the `ax.scatter(...)` function we can specify a label (i.e. some text) as follows: `ax.scatter(values_at_feature_0, values_at_feature_1, color=\"red\", marker=\"x\", label=\"All My Points\")`. Then, we need to call `ax.legend()` to make the legend text appear.\n",
    " \n",
    "Based on this description, complete the following code to produce a more mearningful scatter plot that looks like the following:\n",
    "<img src=\"imgs/simpleScatter1.png\" width=\"500px\" />\n"
   ]
  },
  {
   "cell_type": "code",
   "execution_count": 53,
   "metadata": {},
   "outputs": [
    {
     "data": {
      "image/png": "[encoded data removed]",
      "text/plain": [
       "<Figure size 640x480 with 1 Axes>"
      ]
     },
     "metadata": {},
     "output_type": "display_data"
    }
   ],
   "source": [
    "%matplotlib inline\n",
    "fig, ax = plt.subplots()  # creating a figure with one subplot\n",
    "\n",
    "\"\"\" TODO:\n",
    "Complete the code to produce a plot similar to the above picture\n",
    "\"\"\"\n",
    "# Add a title to your figure:\n",
    "# ...\n",
    "fig.suptitle(\"Simple dataset with 3 clusters \")\n",
    "\n",
    "# Add a text that describes the two dimensions of your scatter plot:\n",
    "# ...\n",
    "ax.set_xlabel(\"Feature 0\")\n",
    "ax.set_ylabel(\"Feature 1\")\n",
    "\n",
    "# Do a scatter plot with a personalized color and marker and legend:\n",
    "ax.scatter(X[: ,0] , X[:, 1] , color = \"red\" , marker= \"x\" , label = \"All my points\")\n",
    "ax.legend()\n",
    "\n",
    "plt.show()"
   ]
  },
  {
   "cell_type": "markdown",
   "metadata": {},
   "source": [
    "Finally, the 300 data-points of our dataset $X$ are divided into three clusters (groups of points) :\n",
    "- The first cluster of points (shown in blue on the next figure) consists of rows between 0 and 100 (i.e. the subset `X[:100]`)\n",
    "- The second cluster of points (shown in red) consists of rows between 100 and 200 (i.e. the subset `X[100:200]`)\n",
    "- The third cluster of points (shown in green) consists of rows between 200 and 300 (i.e. the subset `X[200:300]`, or `X[200:]`).\n",
    "\n",
    "You are asked to complete the following code in order to produce a scatter plot that looks like the following:\n",
    "<img src=\"imgs/simpleScatter2.png\" width=\"500px\" />\n"
   ]
  },
  {
   "cell_type": "code",
   "execution_count": 64,
   "metadata": {},
   "outputs": [
    {
     "data": {
      "image/png": "[encoded data removed]",
      "text/plain": [
       "<Figure size 640x480 with 1 Axes>"
      ]
     },
     "metadata": {},
     "output_type": "display_data"
    }
   ],
   "source": [
    "fig, ax = plt.subplots()\n",
    "\n",
    "\"\"\" TODO:\n",
    "Complete the code to produce a plot similar to the above picture\n",
    "\"\"\"\n",
    "# Add a title for the figure\n",
    "# Set the x-axis label to \"Feature 0\" and the y-axis label to \"Feature 1\"\n",
    "# Scatter plot for the points of the first cluster: ax.scatter(...)\n",
    "# Scatter plot for the points of the second cluster: ax.scatter(...)\n",
    "# Scatter plot for the points of the third cluster: ax.scatter(...)\n",
    "# ...\n",
    "\n",
    "fig.suptitle(\"Simple dataset with 3 clusters\")\n",
    "ax.set_xlabel(\"Feature 0\")\n",
    "ax.set_ylabel(\"Feature 1\")\n",
    "\n",
    "data_A = X[:100]\n",
    "data_B = X[100 : 200]\n",
    "data_C = X[200:]\n",
    "ax.scatter(data_A[:, 0], data_A[:, 1], c='blue' , label = \"First Cluster\" , marker= '$A$')\n",
    "ax.scatter(data_B[:, 0], data_B[:, 1], c='red' , label = \"Second Cluster\" , marker= '$B$')\n",
    "ax.scatter(data_C[:, 0], data_C[:, 1], c='green' , label = \"Third Cluster\" , marker= '$C$')\n",
    "\n",
    "plt.legend()\n",
    "plt.show()"
   ]
  },
  {
   "cell_type": "code",
   "execution_count": null,
   "metadata": {},
   "outputs": [],
   "source": []
  }
 ],
 "metadata": {
  "kernelspec": {
   "display_name": "base",
   "language": "python",
   "name": "python3"
  },
  "language_info": {
   "codemirror_mode": {
    "name": "ipython",
    "version": 3
   },
   "file_extension": ".py",
   "mimetype": "text/x-python",
   "name": "python",
   "nbconvert_exporter": "python",
   "pygments_lexer": "ipython3",
   "version": "3.11.7"
  }
 },
 "nbformat": 4,
 "nbformat_minor": 2
}
